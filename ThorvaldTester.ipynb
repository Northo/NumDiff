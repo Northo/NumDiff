{
 "cells": [
  {
   "cell_type": "code",
   "execution_count": 140,
   "metadata": {},
   "outputs": [],
   "source": [
    "import numpy as np\n",
    "import matplotlib.pyplot as plt\n",
    "import tqdm\n",
    "from ipywidgets import interact\n",
    "from scipy.sparse import dia_matrix\n",
    "from scipy.integrate import quad\n",
    "import seaborn\n",
    "seaborn.set(style='ticks', palette='Set2')"
   ]
  },
  {
   "cell_type": "code",
   "execution_count": 2,
   "metadata": {},
   "outputs": [],
   "source": [
    "M = 100\n",
    "x, h = np.linspace(0, 1, num=M+2, retstep=True)\n",
    "\n",
    "diagonal = np.full(M+1, -2.0)\n",
    "diagonal[-1] = -3*h/2\n",
    "upper_diagonal = np.ones(M)\n",
    "lower_diagonal = np.ones(M)\n",
    "lower_diagonal[-1] = 2*h\n",
    "A = np.diag(diagonal) + np.diag(upper_diagonal, k=1) + np.diag(lower_diagonal, k=-1)\n",
    "A[-1, -3] = -h/2"
   ]
  },
  {
   "cell_type": "code",
   "execution_count": 3,
   "metadata": {},
   "outputs": [],
   "source": [
    "def f(x):\n",
    "    return np.cos(2*np.pi*x) + x\n",
    "\n",
    "def u(x, alpha=0, sigma=0):\n",
    "    return alpha + (1-np.cos(2*np.pi*x))/(4*np.pi**2) + x**3/6 + x*(sigma-0.5)"
   ]
  },
  {
   "cell_type": "code",
   "execution_count": 4,
   "metadata": {},
   "outputs": [],
   "source": [
    "alpha = 0\n",
    "sigma = 0\n",
    "\n",
    "F = f(x[1:])\n",
    "F[0] -= alpha/h**2\n",
    "F[-1] = -sigma"
   ]
  },
  {
   "cell_type": "code",
   "execution_count": 5,
   "metadata": {},
   "outputs": [
    {
     "data": {
      "image/png": "[encoded data removed]",
      "text/plain": [
       "<Figure size 432x288 with 1 Axes>"
      ]
     },
     "metadata": {
      "needs_background": "light"
     },
     "output_type": "display_data"
    }
   ],
   "source": [
    "@interact(alpha=(-0.10, 0.10, 0.01), sigma=(-1.0, 1.0, 0.1))\n",
    "def solve_problem(alpha, sigma):\n",
    "    F[0] = f(x[1]) - alpha/h**2\n",
    "    F[-1] = -sigma\n",
    "    U = np.linalg.solve(A/h**2, F)\n",
    "    plt.plot(x[1:], U, lw=5, ls=\"dashed\")\n",
    "    #plt.ylim(-0.1, 0.1)\n",
    "    plt.plot(x, u(x, alpha=alpha, sigma=sigma))"
   ]
  },
  {
   "cell_type": "markdown",
   "metadata": {},
   "source": [
    "# Implementation using Scipy's sparse arrays:"
   ]
  },
  {
   "cell_type": "code",
   "execution_count": 6,
   "metadata": {},
   "outputs": [],
   "source": [
    "\n",
    "M = 100\n",
    "x, h = np.linspace(0, 1, num=M+2, retstep=True)\n",
    "\n",
    "diagonal = np.full(M+1, -2.0)\n",
    "diagonal[-1] = -3*h/2\n",
    "upper_diagonal = np.ones(M)\n",
    "lower_diagonal = np.ones(M)\n",
    "lower_diagonal[-1] = 2*h\n",
    "\n",
    "A = np.diag(diagonal) + np.diag(upper_diagonal, k=1) + np.diag(lower_diagonal, k=-1)\n",
    "A[-1, -3] = -h/2"
   ]
  },
  {
   "cell_type": "code",
   "execution_count": 19,
   "metadata": {},
   "outputs": [],
   "source": [
    "diagonal = np.full(M+1, -2.0)\n",
    "diagonal[-1] = -3*h/2\n",
    "upper_diagonal = np.ones(M+1)\n",
    "lower_diagonal = np.ones(M+1)\n",
    "lower_diagonal[-2] = 2*h\n",
    "lower_lower_diagonal = np.zeros(M+1)\n",
    "lower_lower_diagonal[-3] = -h/2\n",
    "B = dia_matrix(([lower_lower_diagonal, lower_diagonal, diagonal, upper_diagonal], [-2, -1, 0, 1]), shape=(M+1, M+1))"
   ]
  },
  {
   "cell_type": "code",
   "execution_count": 20,
   "metadata": {},
   "outputs": [
    {
     "name": "stdout",
     "output_type": "stream",
     "text": [
      "[[-2.          1.          0.         ...  0.          0.\n",
      "   0.        ]\n",
      " [ 1.         -2.          1.         ...  0.          0.\n",
      "   0.        ]\n",
      " [ 0.          1.         -2.         ...  0.          0.\n",
      "   0.        ]\n",
      " ...\n",
      " [ 0.          0.          0.         ... -2.          1.\n",
      "   0.        ]\n",
      " [ 0.          0.          0.         ...  1.         -2.\n",
      "   1.        ]\n",
      " [ 0.          0.          0.         ... -0.0049505   0.01980198\n",
      "  -0.01485149]]\n"
     ]
    }
   ],
   "source": [
    "print(B.toarray())"
   ]
  },
  {
   "cell_type": "code",
   "execution_count": 21,
   "metadata": {},
   "outputs": [
    {
     "data": {
      "text/plain": [
       "<101x101 sparse matrix of type '<class 'numpy.float64'>'\n",
       "\twith 400 stored elements (4 diagonals) in DIAgonal format>"
      ]
     },
     "execution_count": 21,
     "metadata": {},
     "output_type": "execute_result"
    }
   ],
   "source": [
    "B"
   ]
  },
  {
   "cell_type": "markdown",
   "metadata": {},
   "source": [
    "# Let's build some machinery!"
   ]
  },
  {
   "cell_type": "code",
   "execution_count": 164,
   "metadata": {},
   "outputs": [],
   "source": [
    "def L2_discrete_norm(V):\n",
    "    \"\"\"Calculate the L2 discrete norm.\n",
    "    Arguments:\n",
    "        V : ndarray The vector for which we find the norm.\"\"\"\n",
    "    return np.linalg.norm(V)/np.sqrt(len(V))\n",
    "\n",
    "\n",
    "def L2_continous_norm(v, x_min=0, x_max=1):\n",
    "    \"\"\"Calculate the L2 continous norm.\n",
    "    Arguments:\n",
    "        v : function The function for which we take the norm.\"\"\"\n",
    "    integrand = lambda x: v(x)**2\n",
    "    return np.sqrt(quad(integrand, x_min, x_max)[0])  # quad from scipy.integrate\n",
    "\n",
    "\n",
    "def L2_discrete_error(U, u):\n",
    "    \"\"\"Calculate the L2 discrete error of U w.r.t. u.\n",
    "    Arguments:\n",
    "        U : ndarray The array for which we find the error.\n",
    "        u : ndarray The correct array, used as reference.\"\"\"\n",
    "    return L2_discrete_norm(u-U) / L2_discrete_norm(u)\n",
    "\n",
    "\n",
    "def L2_continous_error(U, u):\n",
    "    \"\"\"Calculate the L2 continous error of U w.r.t. u.\n",
    "    Arguments:\n",
    "        U : function The function for which we find the error.\n",
    "        u : function The correct function, used as reference.\"\"\"\n",
    "    return L2_continous_norm(lambda x: u(x) - U(x)) / L2_continous_norm(u)\n",
    "\n",
    "\n",
    "def step_continuation(V, x_min=0, x_max=1):\n",
    "    \"\"\"Generates a function which is the stepwise continuation of the array V.\n",
    "    Example:\n",
    "    Given the array [1, 2, 4, 5, 3], and with x_min=0 and x_max=1, we return a function \n",
    "    which is 1 between 0 and 0.2, 2 between 0.2 and 0.4 and so forth.\"\"\"\n",
    "    N = len(V)\n",
    "    @np.vectorize\n",
    "    def V_continous(x):\n",
    "        i = np.trunc(\n",
    "            np.clip(N * x / (x_max - x_min), 0, N-1)\n",
    "        )\n",
    "        return V[int(i)]\n",
    "    \n",
    "    return V_continous\n",
    "\n",
    "\n",
    "def interpolation_continuation(V, x_min=0, x_max=1):\n",
    "    \"\"\"Generates a function that is the interpolated continuation of the array V\"\"\"\n",
    "    N = len(V)\n",
    "    x_space = np.linspace(x_min, x_max, N)\n",
    "    def V_continous(x):\n",
    "        return np.interp(x, x_space, V)\n",
    "    \n",
    "    return V_continous"
   ]
  },
  {
   "cell_type": "code",
   "execution_count": 131,
   "metadata": {},
   "outputs": [],
   "source": [
    "def generate_problem(f, M, alpha=0, sigma=0):\n",
    "    \"\"\"Set up the matrix-problem to sovle the Poisson equation with one Neumann B.C.\n",
    "    Arguments:\n",
    "        f : function The function on the RHS of Poisson (u'' = f).\n",
    "        M : Integer The number of internal points to use.\n",
    "        alpha : float Left B.C. u(0) = alpha.\n",
    "        sigma : float Right B.C. u'(1) = sigma.\n",
    "        \n",
    "    With 'internal points' in M, one here means points in the closed interval (0,1).\n",
    "    The points at x=0 and x=1 are denoted x_0 and x_(M+1), and are not\n",
    "    included in the 'internal points'.\"\"\"\n",
    "    x, h = np.linspace(0, 1, num=M+2, retstep=True)\n",
    "\n",
    "    diagonal = np.full(M+1, -2.0)\n",
    "    diagonal[-1] = -3*h/2\n",
    "    upper_diagonal = np.ones(M)\n",
    "    lower_diagonal = np.ones(M)\n",
    "    lower_diagonal[-1] = 2*h\n",
    "\n",
    "    F = f(x[1:])\n",
    "    F[0] -= alpha/h**2\n",
    "    F[-1] = -sigma\n",
    "\n",
    "    A = np.diag(diagonal) + np.diag(upper_diagonal, k=1) + np.diag(lower_diagonal, k=-1)\n",
    "    A[-1, -3] = -h/2\n",
    "    return A/h**2, F, x[1:]"
   ]
  },
  {
   "cell_type": "code",
   "execution_count": 166,
   "metadata": {},
   "outputs": [
    {
     "name": "stderr",
     "output_type": "stream",
     "text": [
      "<ipython-input-164-f71a24762ea0>:13: IntegrationWarning: The maximum number of subdivisions (50) has been achieved.\n",
      "  If increasing the limit yields no improvement it is advised to analyze \n",
      "  the integrand in order to determine the difficulties.  If the position of a \n",
      "  local difficulty can be determined (singularity, discontinuity) one will \n",
      "  probably gain from splitting up the interval and calling the integrator \n",
      "  on the subranges.  Perhaps a special-purpose integrator should be used.\n",
      "  return np.sqrt(quad(integrand, x_min, x_max)[0])  # quad from scipy.integrate\n"
     ]
    }
   ],
   "source": [
    "M_list = np.geomspace(10, 500, 10, dtype=int)\n",
    "L2_discrete_errors = []\n",
    "L2_continous_errors = []\n",
    "L2_continous_errors_inter = []\n",
    "for M in M_list:\n",
    "    A, F, x = generate_problem(f, M)\n",
    "    U = np.linalg.solve(A, F)\n",
    "    L2_discrete_errors.append(\n",
    "        L2_discrete_error(U, u(x))\n",
    "    )\n",
    "    L2_continous_errors.append(\n",
    "        L2_continous_error(step_continuation(U), u)\n",
    "    )\n",
    "    L2_continous_errors_inter.append(\n",
    "        L2_continous_error(interpolation_continuation(U), u)\n",
    "    )\n",
    "    "
   ]
  },
  {
   "cell_type": "code",
   "execution_count": 167,
   "metadata": {},
   "outputs": [
    {
     "data": {
      "image/png": "[encoded data removed]",
      "text/plain": [
       "<Figure size 432x288 with 1 Axes>"
      ]
     },
     "metadata": {},
     "output_type": "display_data"
    }
   ],
   "source": [
    "plt.plot(M_list, L2_discrete_errors, 'o-', label=\"Discrete\")\n",
    "plt.plot(M_list, L2_continous_errors, 'x-', label=\"Continous\")\n",
    "plt.plot(M_list, L2_continous_errors_inter, 'x-', label=\"Continous (interpolation)\")\n",
    "plt.plot([1e2, 1e3, 1e3, 1e2], [10e-4, 10e-6, 10e-4, 10e-4], lw=0.5, c=\"gray\")\n",
    "plt.xscale('log')\n",
    "plt.yscale('log')\n",
    "plt.legend()\n",
    "import tikzplotlib\n",
    "tikzplotlib.save(\"convergence.tex\")"
   ]
  },
  {
   "cell_type": "code",
   "execution_count": 142,
   "metadata": {},
   "outputs": [
    {
     "data": {
      "text/plain": [
       "[<matplotlib.lines.Line2D at 0x7fd4105c3130>]"
      ]
     },
     "execution_count": 142,
     "metadata": {},
     "output_type": "execute_result"
    },
    {
     "data": {
      "image/png": "[encoded data removed]",
      "text/plain": [
       "<Figure size 432x288 with 1 Axes>"
      ]
     },
     "metadata": {},
     "output_type": "display_data"
    }
   ],
   "source": [
    "U_func = step_continuation(U)\n",
    "plt.plot(x, U_func(x))\n",
    "plt.plot(x, U)"
   ]
  },
  {
   "cell_type": "code",
   "execution_count": 102,
   "metadata": {},
   "outputs": [
    {
     "data": {
      "text/plain": [
       "0.3730334851744202"
      ]
     },
     "execution_count": 102,
     "metadata": {},
     "output_type": "execute_result"
    }
   ],
   "source": [
    "np.linalg.norm(U)"
   ]
  },
  {
   "cell_type": "code",
   "execution_count": 105,
   "metadata": {},
   "outputs": [
    {
     "data": {
      "text/plain": [
       "0.3730334851744202"
      ]
     },
     "execution_count": 105,
     "metadata": {},
     "output_type": "execute_result"
    }
   ],
   "source": [
    "np.sqrt(np.sum(U**2))"
   ]
  },
  {
   "cell_type": "code",
   "execution_count": 130,
   "metadata": {},
   "outputs": [
    {
     "data": {
      "text/plain": [
       "(10,)"
      ]
     },
     "execution_count": 130,
     "metadata": {},
     "output_type": "execute_result"
    }
   ],
   "source": [
    "np.linspace(0, 1, 10).shape"
   ]
  },
  {
   "cell_type": "code",
   "execution_count": null,
   "metadata": {},
   "outputs": [],
   "source": []
  }
 ],
 "metadata": {
  "kernelspec": {
   "display_name": "Python 3",
   "language": "python",
   "name": "python3"
  },
  "language_info": {
   "codemirror_mode": {
    "name": "ipython",
    "version": 3
   },
   "file_extension": ".py",
   "mimetype": "text/x-python",
   "name": "python",
   "nbconvert_exporter": "python",
   "pygments_lexer": "ipython3",
   "version": "3.9.1"
  }
 },
 "nbformat": 4,
 "nbformat_minor": 4
}
