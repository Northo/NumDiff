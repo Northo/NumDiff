{
 "cells": [
  {
   "cell_type": "code",
   "execution_count": 2,
   "metadata": {},
   "outputs": [],
   "source": [
    "import numpy as np\n",
    "import matplotlib.pyplot as plt\n",
    "import tqdm\n",
    "from ipywidgets import interact\n",
    "from scipy.sparse import dia_matrix\n",
    "from scipy.integrate import quad\n",
    "import seaborn\n",
    "from enum import Enum\n",
    "\n",
    "seaborn.set(style='ticks', palette='Set2')"
   ]
  },
  {
   "cell_type": "code",
   "execution_count": 3,
   "metadata": {},
   "outputs": [],
   "source": [
    "M = 100\n",
    "x, h = np.linspace(0, 1, num=M+2, retstep=True)\n",
    "\n",
    "diagonal = np.full(M+1, -2.0)\n",
    "diagonal[-1] = -3*h/2\n",
    "upper_diagonal = np.ones(M)\n",
    "lower_diagonal = np.ones(M)\n",
    "lower_diagonal[-1] = 2*h\n",
    "A = np.diag(diagonal) + np.diag(upper_diagonal, k=1) + np.diag(lower_diagonal, k=-1)\n",
    "A[-1, -3] = -h/2"
   ]
  },
  {
   "cell_type": "code",
   "execution_count": 4,
   "metadata": {},
   "outputs": [],
   "source": [
    "def f(x):\n",
    "    return np.cos(2*np.pi*x) + x\n",
    "\n",
    "def u(x, alpha=0, sigma=0):\n",
    "    return alpha + (1-np.cos(2*np.pi*x))/(4*np.pi**2) + x**3/6 + x*(sigma-0.5)"
   ]
  },
  {
   "cell_type": "code",
   "execution_count": 5,
   "metadata": {},
   "outputs": [],
   "source": [
    "alpha = 0\n",
    "sigma = 0\n",
    "\n",
    "F = f(x[1:])\n",
    "F[0] -= alpha/h**2\n",
    "F[-1] = -sigma"
   ]
  },
  {
   "cell_type": "code",
   "execution_count": 6,
   "metadata": {},
   "outputs": [
    {
     "data": {
      "application/vnd.jupyter.widget-view+json": {
       "model_id": "ced9b13ac31a4b7d9c40dbbe0a67efb1",
       "version_major": 2,
       "version_minor": 0
      },
      "text/plain": [
       "interactive(children=(FloatSlider(value=0.0, description='alpha', max=0.1, min=-0.1, step=0.01), FloatSlider(v…"
      ]
     },
     "metadata": {},
     "output_type": "display_data"
    }
   ],
   "source": [
    "@interact(alpha=(-0.10, 0.10, 0.01), sigma=(-1.0, 1.0, 0.1))\n",
    "def solve_problem(alpha, sigma):\n",
    "    F[0] = f(x[1]) - alpha/h**2\n",
    "    F[-1] = -sigma\n",
    "    U = np.linalg.solve(A/h**2, F)\n",
    "    plt.plot(x[1:], U, lw=5, ls=\"dashed\")\n",
    "    #plt.ylim(-0.1, 0.1)\n",
    "    plt.plot(x, u(x, alpha=alpha, sigma=sigma))"
   ]
  },
  {
   "cell_type": "markdown",
   "metadata": {},
   "source": [
    "# Implementation using Scipy's sparse arrays:"
   ]
  },
  {
   "cell_type": "code",
   "execution_count": 7,
   "metadata": {},
   "outputs": [],
   "source": [
    "\n",
    "M = 100\n",
    "x, h = np.linspace(0, 1, num=M+2, retstep=True)\n",
    "\n",
    "diagonal = np.full(M+1, -2.0)\n",
    "diagonal[-1] = -3*h/2\n",
    "upper_diagonal = np.ones(M)\n",
    "lower_diagonal = np.ones(M)\n",
    "lower_diagonal[-1] = 2*h\n",
    "\n",
    "A = np.diag(diagonal) + np.diag(upper_diagonal, k=1) + np.diag(lower_diagonal, k=-1)\n",
    "A[-1, -3] = -h/2"
   ]
  },
  {
   "cell_type": "code",
   "execution_count": 8,
   "metadata": {},
   "outputs": [],
   "source": [
    "diagonal = np.full(M+1, -2.0)\n",
    "diagonal[-1] = -3*h/2\n",
    "upper_diagonal = np.ones(M+1)\n",
    "lower_diagonal = np.ones(M+1)\n",
    "lower_diagonal[-2] = 2*h\n",
    "lower_lower_diagonal = np.zeros(M+1)\n",
    "lower_lower_diagonal[-3] = -h/2\n",
    "B = dia_matrix(([lower_lower_diagonal, lower_diagonal, diagonal, upper_diagonal], [-2, -1, 0, 1]), shape=(M+1, M+1))"
   ]
  },
  {
   "cell_type": "code",
   "execution_count": 9,
   "metadata": {},
   "outputs": [
    {
     "name": "stdout",
     "output_type": "stream",
     "text": [
      "[[-2.          1.          0.         ...  0.          0.\n",
      "   0.        ]\n",
      " [ 1.         -2.          1.         ...  0.          0.\n",
      "   0.        ]\n",
      " [ 0.          1.         -2.         ...  0.          0.\n",
      "   0.        ]\n",
      " ...\n",
      " [ 0.          0.          0.         ... -2.          1.\n",
      "   0.        ]\n",
      " [ 0.          0.          0.         ...  1.         -2.\n",
      "   1.        ]\n",
      " [ 0.          0.          0.         ... -0.0049505   0.01980198\n",
      "  -0.01485149]]\n"
     ]
    }
   ],
   "source": [
    "print(B.toarray())"
   ]
  },
  {
   "cell_type": "code",
   "execution_count": 10,
   "metadata": {},
   "outputs": [
    {
     "data": {
      "text/plain": [
       "<101x101 sparse matrix of type '<class 'numpy.float64'>'\n",
       "\twith 400 stored elements (4 diagonals) in DIAgonal format>"
      ]
     },
     "execution_count": 10,
     "metadata": {},
     "output_type": "execute_result"
    }
   ],
   "source": [
    "B"
   ]
  },
  {
   "cell_type": "markdown",
   "metadata": {},
   "source": [
    "# Let's build some machinery!"
   ]
  },
  {
   "cell_type": "code",
   "execution_count": 11,
   "metadata": {},
   "outputs": [],
   "source": [
    "def L2_discrete_norm(V):\n",
    "    \"\"\"Calculate the L2 discrete norm.\n",
    "    Arguments:\n",
    "        V : ndarray The vector for which we find the norm.\"\"\"\n",
    "    return np.linalg.norm(V)/np.sqrt(len(V))\n",
    "\n",
    "\n",
    "def L2_continous_norm(v, x_min=0, x_max=1):\n",
    "    \"\"\"Calculate the L2 continous norm.\n",
    "    Arguments:\n",
    "        v : function The function for which we take the norm.\"\"\"\n",
    "    integrand = lambda x: v(x)**2\n",
    "    return np.sqrt(quad(integrand, x_min, x_max)[0])  # quad from scipy.integrate\n",
    "\n",
    "\n",
    "def L2_discrete_error(U, u):\n",
    "    \"\"\"Calculate the L2 discrete error of U w.r.t. u.\n",
    "    Arguments:\n",
    "        U : ndarray The array for which we find the error.\n",
    "        u : ndarray The correct array, used as reference.\"\"\"\n",
    "    return L2_discrete_norm(u-U) / L2_discrete_norm(u)\n",
    "\n",
    "\n",
    "def L2_continous_error(U, u):\n",
    "    \"\"\"Calculate the L2 continous error of U w.r.t. u.\n",
    "    Arguments:\n",
    "        U : function The function for which we find the error.\n",
    "        u : function The correct function, used as reference.\"\"\"\n",
    "    return L2_continous_norm(lambda x: u(x) - U(x)) / L2_continous_norm(u)\n",
    "\n",
    "\n",
    "def step_continuation(V, x_min=0, x_max=1):\n",
    "    \"\"\"Generates a function which is the stepwise continuation of the array V.\n",
    "    Example:\n",
    "    Given the array [1, 2, 4, 5, 3], and with x_min=0 and x_max=1, we return a function \n",
    "    which is 1 between 0 and 0.2, 2 between 0.2 and 0.4 and so forth.\"\"\"\n",
    "    N = len(V)\n",
    "    @np.vectorize\n",
    "    def V_continous(x):\n",
    "        i = np.trunc(\n",
    "            np.clip(N * x / (x_max - x_min), 0, N-1)\n",
    "        )\n",
    "        return V[int(i)]\n",
    "    \n",
    "    return V_continous\n",
    "\n",
    "\n",
    "def interpolation_continuation(V, x_min=0, x_max=1):\n",
    "    \"\"\"Generates a function that is the interpolated continuation of the array V\"\"\"\n",
    "    N = len(V)\n",
    "    x_space = np.linspace(x_min, x_max, N)\n",
    "    def V_continous(x):\n",
    "        return np.interp(x, x_space, V)\n",
    "    \n",
    "    return V_continous"
   ]
  },
  {
   "cell_type": "code",
   "execution_count": 12,
   "metadata": {},
   "outputs": [],
   "source": [
    "def generate_problem(f, M, alpha=0, sigma=0):\n",
    "    \"\"\"Set up the matrix-problem to sovle the Poisson equation with one Neumann B.C.\n",
    "    Arguments:\n",
    "        f : function The function on the RHS of Poisson (u'' = f).\n",
    "        M : Integer The number of internal points to use.\n",
    "        alpha : float Left B.C. u(0) = alpha.\n",
    "        sigma : float Right B.C. u'(1) = sigma.\n",
    "        \n",
    "    With 'internal points' in M, one here means points in the closed interval (0,1).\n",
    "    The points at x=0 and x=1 are denoted x_0 and x_(M+1), and are not\n",
    "    included in the 'internal points'.\"\"\"\n",
    "    x, h = np.linspace(0, 1, num=M+2, retstep=True)\n",
    "\n",
    "    diagonal = np.full(M+1, -2.0)\n",
    "    diagonal[-1] = -3*h/2\n",
    "    upper_diagonal = np.ones(M)\n",
    "    lower_diagonal = np.ones(M)\n",
    "    lower_diagonal[-1] = 2*h\n",
    "\n",
    "    F = f(x[1:])\n",
    "    F[0] -= alpha/h**2\n",
    "    F[-1] = -sigma\n",
    "\n",
    "    A = np.diag(diagonal) + np.diag(upper_diagonal, k=1) + np.diag(lower_diagonal, k=-1)\n",
    "    A[-1, -3] = -h/2\n",
    "    return A/h**2, F, x[1:]"
   ]
  },
  {
   "cell_type": "code",
   "execution_count": 17,
   "metadata": {},
   "outputs": [],
   "source": [
    "class BCType(Enum):\n",
    "    DIRICHLET = 1\n",
    "    NEUMANN = 2\n",
    "    VALUE = 1  # Alias for Dirichlet.\n",
    "    \n",
    "\n",
    "def generate_problem(f, M, BC_left, BC_right):\n",
    "    \"\"\"Set up the matrix-problem to sovle the Poisson equation with one Neumann B.C.\n",
    "    Arguments:\n",
    "        f : function The function on the RHS of Poisson (u'' = f).\n",
    "        M : Integer The number of internal points to use.\n",
    "        BC_left/right: tuple The boundary conditions of the problem. The tuple has two,\n",
    "                       elements, where the first defines the type and the second the value.\n",
    "        \n",
    "    With 'internal points' in M, one here means points in the closed interval (0,1).\n",
    "    The points at x=0 and x=1 are denoted x_0 and x_(M+1), and are not\n",
    "    included in the 'internal points'.\"\"\"\n",
    "    \n",
    "    # Depending on the BCs, the size of our matrix varies.\n",
    "    # We need at least an MxM-system. For each Neumann-BC we must increase by one.\n",
    "    # nn: number_neumann, for brevity.\n",
    "    nn = np.sum(\n",
    "        [BC[0] == BCType.NEUMANN for BC in [BC_left, BC_right]]\n",
    "    )\n",
    "    # Independent of nn, we want M+2 points in order to be consitent with notation in problem text.\n",
    "    x, h = np.linspace(0, 1, num=M+2, retstep=True)\n",
    "    # For later convenience, we will define inner, which is simply the range of x-values we actually use.\n",
    "    inner = range(\n",
    "        int(not BC_left[0]==BCType.NEUMANN),\n",
    "        M + 1 + int(BC_right[0]==BCType.NEUMANN),  # Add one because range is excluding endpoint.\n",
    "    )\n",
    "    \n",
    "    # Apply values common for all BCs.\n",
    "    diagonal = np.full(M+nn, -2)\n",
    "    upper_diagonal = np.ones(M+nn-1)\n",
    "    lower_diagonal = np.ones(M+nn-1)\n",
    "    A = np.diag(diagonal) + np.diag(upper_diagonal, k=1) + np.diag(lower_diagonal, k=-1)\n",
    "    F = f(x[inner])\n",
    "    \n",
    "    # Change elements specific for BCs.\n",
    "    if BC_left[0] == BCType.NEUMANN:\n",
    "        F[0] = BC_left[1]\n",
    "        A[0, [0,1,2]] = np.array([-3/2, 2, -1/2]) * h  # Forward difference first derivative of order 2.\n",
    "    elif BC_left[0] == BCType.DIRICHLET:\n",
    "        F[0] -= BC_left[1]/h**2\n",
    "    else: \n",
    "        raise Exception(\"Unknown boundary condition type.\")\n",
    "        \n",
    "    if BC_right[0] == BCType.NEUMANN:\n",
    "        F[-1] = BC_right[1]\n",
    "        A[-1, [-3, -2, -1]] = np.array([1/2, -2, 3/2]) * h  # Forward difference first derivative of order 2.\n",
    "    elif BC_right[0] == BCType.DIRICHLET:\n",
    "        F[-1] -= BC_right[1]/h**2\n",
    "    else: \n",
    "        raise Exception(\"Unknown boundary condition type.\")\n",
    "        \n",
    "    return A/h**2, F, x[inner]"
   ]
  },
  {
   "cell_type": "code",
   "execution_count": 25,
   "metadata": {},
   "outputs": [
    {
     "data": {
      "image/png": "[encoded data removed]",
      "text/plain": [
       "<Figure size 432x288 with 1 Axes>"
      ]
     },
     "metadata": {},
     "output_type": "display_data"
    }
   ],
   "source": [
    "M = 100\n",
    "A, F, x = generate_problem(f, M,\n",
    "                           (BCType.NEUMANN, -1), \n",
    "                           (BCType.VALUE, 0)\n",
    "                          )\n",
    "U = np.linalg.solve(A, F)\n",
    "plt.plot(x, U)\n",
    "plt.show()"
   ]
  },
  {
   "cell_type": "code",
   "execution_count": 15,
   "metadata": {},
   "outputs": [
    {
     "data": {
      "text/plain": [
       "array([0.37398411, 0.37375857])"
      ]
     },
     "execution_count": 15,
     "metadata": {},
     "output_type": "execute_result"
    }
   ],
   "source": [
    "A[-1, [-2, -1]]"
   ]
  },
  {
   "cell_type": "code",
   "execution_count": 16,
   "metadata": {},
   "outputs": [
    {
     "ename": "TypeError",
     "evalue": "generate_problem() missing 2 required positional arguments: 'BC_left' and 'BC_right'",
     "output_type": "error",
     "traceback": [
      "\u001b[0;31m---------------------------------------------------------------------------\u001b[0m",
      "\u001b[0;31mTypeError\u001b[0m                                 Traceback (most recent call last)",
      "\u001b[0;32m<ipython-input-16-f931345769f5>\u001b[0m in \u001b[0;36m<module>\u001b[0;34m\u001b[0m\n\u001b[1;32m      4\u001b[0m \u001b[0mL2_continous_errors_inter\u001b[0m \u001b[0;34m=\u001b[0m \u001b[0;34m[\u001b[0m\u001b[0;34m]\u001b[0m\u001b[0;34m\u001b[0m\u001b[0;34m\u001b[0m\u001b[0m\n\u001b[1;32m      5\u001b[0m \u001b[0;32mfor\u001b[0m \u001b[0mM\u001b[0m \u001b[0;32min\u001b[0m \u001b[0mM_list\u001b[0m\u001b[0;34m:\u001b[0m\u001b[0;34m\u001b[0m\u001b[0;34m\u001b[0m\u001b[0m\n\u001b[0;32m----> 6\u001b[0;31m     \u001b[0mA\u001b[0m\u001b[0;34m,\u001b[0m \u001b[0mF\u001b[0m\u001b[0;34m,\u001b[0m \u001b[0mx\u001b[0m \u001b[0;34m=\u001b[0m \u001b[0mgenerate_problem\u001b[0m\u001b[0;34m(\u001b[0m\u001b[0mf\u001b[0m\u001b[0;34m,\u001b[0m \u001b[0mM\u001b[0m\u001b[0;34m)\u001b[0m\u001b[0;34m\u001b[0m\u001b[0;34m\u001b[0m\u001b[0m\n\u001b[0m\u001b[1;32m      7\u001b[0m     \u001b[0mU\u001b[0m \u001b[0;34m=\u001b[0m \u001b[0mnp\u001b[0m\u001b[0;34m.\u001b[0m\u001b[0mlinalg\u001b[0m\u001b[0;34m.\u001b[0m\u001b[0msolve\u001b[0m\u001b[0;34m(\u001b[0m\u001b[0mA\u001b[0m\u001b[0;34m,\u001b[0m \u001b[0mF\u001b[0m\u001b[0;34m)\u001b[0m\u001b[0;34m\u001b[0m\u001b[0;34m\u001b[0m\u001b[0m\n\u001b[1;32m      8\u001b[0m     L2_discrete_errors.append(\n",
      "\u001b[0;31mTypeError\u001b[0m: generate_problem() missing 2 required positional arguments: 'BC_left' and 'BC_right'"
     ]
    }
   ],
   "source": [
    "M_list = np.geomspace(10, 500, 10, dtype=int)\n",
    "L2_discrete_errors = []\n",
    "L2_continous_errors = []\n",
    "L2_continous_errors_inter = []\n",
    "for M in M_list:\n",
    "    A, F, x = generate_problem(f, M)\n",
    "    U = np.linalg.solve(A, F)\n",
    "    L2_discrete_errors.append(\n",
    "        L2_discrete_error(U, u(x))\n",
    "    )\n",
    "    L2_continous_errors.append(\n",
    "        L2_continous_error(step_continuation(U), u)\n",
    "    )\n",
    "    L2_continous_errors_inter.append(\n",
    "        L2_continous_error(interpolation_continuation(U), u)\n",
    "    )\n",
    "    "
   ]
  },
  {
   "cell_type": "code",
   "execution_count": null,
   "metadata": {},
   "outputs": [],
   "source": [
    "plt.plot(M_list, L2_discrete_errors, 'o-', label=\"Discrete\")\n",
    "plt.plot(M_list, L2_continous_errors, 'x-', label=\"Continous\")\n",
    "plt.plot(M_list, L2_continous_errors_inter, 'x-', label=\"Continous (interpolation)\")\n",
    "plt.plot([1e2, 1e3, 1e3, 1e2], [10e-4, 10e-6, 10e-4, 10e-4], lw=0.5, c=\"gray\")\n",
    "plt.xscale('log')\n",
    "plt.yscale('log')\n",
    "plt.legend()\n",
    "import tikzplotlib\n",
    "tikzplotlib.save(\"convergence.tex\")"
   ]
  },
  {
   "cell_type": "code",
   "execution_count": null,
   "metadata": {},
   "outputs": [],
   "source": [
    "U_func = step_continuation(U)\n",
    "plt.plot(x, U_func(x))\n",
    "plt.plot(x, U)"
   ]
  },
  {
   "cell_type": "code",
   "execution_count": null,
   "metadata": {},
   "outputs": [],
   "source": [
    "np.linalg.norm(U)"
   ]
  },
  {
   "cell_type": "code",
   "execution_count": null,
   "metadata": {},
   "outputs": [],
   "source": [
    "np.sqrt(np.sum(U**2))"
   ]
  },
  {
   "cell_type": "code",
   "execution_count": null,
   "metadata": {},
   "outputs": [],
   "source": [
    "np.linspace(0, 1, 10).shape"
   ]
  },
  {
   "cell_type": "code",
   "execution_count": null,
   "metadata": {},
   "outputs": [],
   "source": []
  }
 ],
 "metadata": {
  "jupytext": {
   "formats": "ipynb,py:light"
  },
  "kernelspec": {
   "display_name": "Python 3",
   "language": "python",
   "name": "python3"
  },
  "language_info": {
   "codemirror_mode": {
    "name": "ipython",
    "version": 3
   },
   "file_extension": ".py",
   "mimetype": "text/x-python",
   "name": "python",
   "nbconvert_exporter": "python",
   "pygments_lexer": "ipython3",
   "version": "3.9.1"
  }
 },
 "nbformat": 4,
 "nbformat_minor": 4
}
