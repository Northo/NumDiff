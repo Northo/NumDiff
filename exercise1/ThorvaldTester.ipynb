{
 "cells": [
  {
   "cell_type": "code",
   "execution_count": 7,
   "metadata": {},
   "outputs": [],
   "source": [
    "import matplotlib.pyplot as plt\n",
    "import numpy as np\n",
    "import seaborn\n",
    "import tqdm\n",
    "from ipywidgets import interact\n",
    "from utils import *  # Local file\n",
    "\n",
    "seaborn.set(style=\"ticks\", palette=\"Set2\")"
   ]
  },
  {
   "cell_type": "markdown",
   "metadata": {},
   "source": [
    "# Analytical solution\n",
    "We have\n",
    "$$\n",
    " u''(x) = f(x) = cos(2\\pi x) + x\n",
    "$$\n",
    "where\n",
    "$$\n",
    "P_1u(0) = \\alpha, P_2 u(1) = \\sigma, \n",
    "$$\n",
    "and $P_1, P_2$ are either $\\partial_x$ or $\\mathbb{1}$.\n",
    "The latter corresponds to a Dirichlet boundary condition, while the former is a Neumann condition.\n",
    "\n",
    "$$\n",
    "\\newcommand{\\Bold}[1]{\\mathbf{#1}}K_{2} x + K_{1} + \\frac{2 \\, \\pi^{2} x^{3} - 3 \\, \\cos\\left(2 \\, \\pi x\\right)}{12 \\, \\pi^{2}}\n",
    "$$\n",
    "where the following holds\n",
    "\\begin{align}\n",
    "a(0) &= K_{1} - \\frac{1}{4 \\, \\pi^{2}} \\\\\n",
    "a(1) &= K_{1} + K_{2} + \\frac{2 \\, \\pi^{2} - 3}{12 \\, \\pi^{2}} \\\\\n",
    "a'(0) &= K2\\\\\n",
    "a'(1) &= K2 + \\frac12.\n",
    "\\end{align}\n",
    "In our code, we formulate a set of linear equations for $K1, K2$ from the BCs."
   ]
  },
  {
   "cell_type": "markdown",
   "metadata": {},
   "source": [
    "# Let's build some machinery!"
   ]
  },
  {
   "cell_type": "code",
   "execution_count": 8,
   "metadata": {},
   "outputs": [
    {
     "data": {
      "image/png": "[encoded data removed]",
      "text/plain": [
       "<Figure size 432x288 with 1 Axes>"
      ]
     },
     "metadata": {},
     "output_type": "display_data"
    }
   ],
   "source": [
    "M = 500\n",
    "A, F, x = generate_problem(f, M, (BCType.VALUE, 0), (BCType.NEUMANN, 0))\n",
    "U = np.linalg.solve(A, F)\n",
    "plt.plot(x, U)\n",
    "plt.show()"
   ]
  },
  {
   "cell_type": "code",
   "execution_count": null,
   "metadata": {},
   "outputs": [],
   "source": [
    "M_list = np.geomspace(10, 500, 10, dtype=int)\n",
    "L2_discrete_errors = []\n",
    "L2_continous_errors = []\n",
    "L2_continous_errors_inter = []\n",
    "\n",
    "BCs = [(BCType.VALUE, 0), (BCType.NEUMANN, 0)]\n",
    "\n",
    "for M in M_list:\n",
    "    A, F, x = generate_problem(f, M, *BCs)\n",
    "    U = np.linalg.solve(A, F)\n",
    "    analytical = u(*BCs)\n",
    "    L2_discrete_errors.append(L2_discrete_error(U, analytical(x)))\n",
    "    L2_continous_errors.append(L2_continous_error(step_continuation(U), analytical))\n",
    "    L2_continous_errors_inter.append(\n",
    "        L2_continous_error(interpolation_continuation(U), analytical)\n",
    "    )"
   ]
  },
  {
   "cell_type": "code",
   "execution_count": null,
   "metadata": {},
   "outputs": [],
   "source": [
    "plt.plot(M_list, L2_discrete_errors, \"o-\", label=\"Discrete\")\n",
    "plt.plot(M_list, L2_continous_errors, \"x-\", label=\"Continous\")\n",
    "plt.plot(M_list, L2_continous_errors_inter, \"x-\", label=\"Continous (interpolation)\")\n",
    "# plt.plot([1e2, 1e3, 1e3, 1e2], [10e-4, 10e-6, 10e-4, 10e-4], lw=0.5, c=\"gray\")\n",
    "plt.xscale(\"log\")\n",
    "plt.yscale(\"log\")\n",
    "plt.legend()"
   ]
  },
  {
   "cell_type": "code",
   "execution_count": null,
   "metadata": {},
   "outputs": [],
   "source": [
    "U_func = step_continuation(U)\n",
    "plt.plot(x, U_func(x))\n",
    "plt.plot(x, U)"
   ]
  },
  {
   "cell_type": "code",
   "execution_count": null,
   "metadata": {},
   "outputs": [],
   "source": []
  }
 ],
 "metadata": {
  "jupytext": {
   "formats": "ipynb,py:light"
  },
  "kernelspec": {
   "display_name": "Python 3",
   "language": "python",
   "name": "python3"
  },
  "language_info": {
   "codemirror_mode": {
    "name": "ipython",
    "version": 3
   },
   "file_extension": ".py",
   "mimetype": "text/x-python",
   "name": "python",
   "nbconvert_exporter": "python",
   "pygments_lexer": "ipython3",
   "version": "3.9.1"
  }
 },
 "nbformat": 4,
 "nbformat_minor": 4
}
